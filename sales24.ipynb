{
 "cells": [
  {
   "cell_type": "code",
   "execution_count": 1,
   "id": "5fad4733-dc2f-4f34-a0bc-4f8a2d6cc266",
   "metadata": {},
   "outputs": [],
   "source": [
    "import pandas as pd\n",
    "import numpy as np\n",
    "import matplotlib.pyplot as plt"
   ]
  },
  {
   "cell_type": "code",
   "execution_count": 2,
   "id": "7da8c787-5e01-4854-acca-8984519a222d",
   "metadata": {},
   "outputs": [
    {
     "data": {
      "text/html": [
       "<div>\n",
       "<style scoped>\n",
       "    .dataframe tbody tr th:only-of-type {\n",
       "        vertical-align: middle;\n",
       "    }\n",
       "\n",
       "    .dataframe tbody tr th {\n",
       "        vertical-align: top;\n",
       "    }\n",
       "\n",
       "    .dataframe thead th {\n",
       "        text-align: right;\n",
       "    }\n",
       "</style>\n",
       "<table border=\"1\" class=\"dataframe\">\n",
       "  <thead>\n",
       "    <tr style=\"text-align: right;\">\n",
       "      <th></th>\n",
       "      <th>Order ID</th>\n",
       "      <th>Customer ID</th>\n",
       "      <th>SalesPerson</th>\n",
       "      <th>Order Date</th>\n",
       "      <th>Order Priority</th>\n",
       "      <th>SKU</th>\n",
       "      <th>Order Quantity</th>\n",
       "      <th>Unit Sell Price</th>\n",
       "      <th>Discount</th>\n",
       "      <th>Shipping Amount</th>\n",
       "      <th>Ship Mode</th>\n",
       "      <th>Product Container</th>\n",
       "      <th>Ship Date</th>\n",
       "    </tr>\n",
       "  </thead>\n",
       "  <tbody>\n",
       "    <tr>\n",
       "      <th>0</th>\n",
       "      <td>13729</td>\n",
       "      <td>C508</td>\n",
       "      <td>Bob</td>\n",
       "      <td>1/1/2014</td>\n",
       "      <td>Not Specified</td>\n",
       "      <td>SKU947</td>\n",
       "      <td>9</td>\n",
       "      <td>95.99</td>\n",
       "      <td>0.08</td>\n",
       "      <td>35.00</td>\n",
       "      <td>Express Air</td>\n",
       "      <td>Large Box</td>\n",
       "      <td>3/1/2014</td>\n",
       "    </tr>\n",
       "    <tr>\n",
       "      <th>1</th>\n",
       "      <td>28774</td>\n",
       "      <td>C372</td>\n",
       "      <td>John</td>\n",
       "      <td>1/1/2014</td>\n",
       "      <td>High</td>\n",
       "      <td>SKU937</td>\n",
       "      <td>32</td>\n",
       "      <td>5.98</td>\n",
       "      <td>0.10</td>\n",
       "      <td>4.69</td>\n",
       "      <td>Regular Air</td>\n",
       "      <td>Small Box</td>\n",
       "      <td>2/1/2014</td>\n",
       "    </tr>\n",
       "    <tr>\n",
       "      <th>2</th>\n",
       "      <td>9285</td>\n",
       "      <td>C212</td>\n",
       "      <td>Bob</td>\n",
       "      <td>2/1/2014</td>\n",
       "      <td>Critical</td>\n",
       "      <td>SKU363</td>\n",
       "      <td>3</td>\n",
       "      <td>40.98</td>\n",
       "      <td>0.06</td>\n",
       "      <td>2.99</td>\n",
       "      <td>Regular Air</td>\n",
       "      <td>Small Box</td>\n",
       "      <td>4/1/2014</td>\n",
       "    </tr>\n",
       "    <tr>\n",
       "      <th>3</th>\n",
       "      <td>37537</td>\n",
       "      <td>C015</td>\n",
       "      <td>Bob</td>\n",
       "      <td>2/1/2014</td>\n",
       "      <td>Low</td>\n",
       "      <td>SKU052</td>\n",
       "      <td>4</td>\n",
       "      <td>291.73</td>\n",
       "      <td>0.00</td>\n",
       "      <td>48.80</td>\n",
       "      <td>Delivery Truck</td>\n",
       "      <td>Jumbo Drum</td>\n",
       "      <td>2/1/2014</td>\n",
       "    </tr>\n",
       "    <tr>\n",
       "      <th>4</th>\n",
       "      <td>37537</td>\n",
       "      <td>C015</td>\n",
       "      <td>Bob</td>\n",
       "      <td>2/1/2014</td>\n",
       "      <td>Low</td>\n",
       "      <td>SKU063</td>\n",
       "      <td>43</td>\n",
       "      <td>100.98</td>\n",
       "      <td>0.07</td>\n",
       "      <td>45.00</td>\n",
       "      <td>Delivery Truck</td>\n",
       "      <td>Jumbo Drum</td>\n",
       "      <td>4/1/2014</td>\n",
       "    </tr>\n",
       "  </tbody>\n",
       "</table>\n",
       "</div>"
      ],
      "text/plain": [
       "   Order ID Customer ID SalesPerson Order Date Order Priority     SKU  \\\n",
       "0     13729        C508         Bob   1/1/2014  Not Specified  SKU947   \n",
       "1     28774        C372        John   1/1/2014           High  SKU937   \n",
       "2      9285        C212         Bob   2/1/2014       Critical  SKU363   \n",
       "3     37537        C015         Bob   2/1/2014            Low  SKU052   \n",
       "4     37537        C015         Bob   2/1/2014            Low  SKU063   \n",
       "\n",
       "   Order Quantity  Unit Sell Price  Discount  Shipping Amount       Ship Mode  \\\n",
       "0               9            95.99      0.08            35.00     Express Air   \n",
       "1              32             5.98      0.10             4.69     Regular Air   \n",
       "2               3            40.98      0.06             2.99     Regular Air   \n",
       "3               4           291.73      0.00            48.80  Delivery Truck   \n",
       "4              43           100.98      0.07            45.00  Delivery Truck   \n",
       "\n",
       "  Product Container Ship Date  \n",
       "0         Large Box  3/1/2014  \n",
       "1         Small Box  2/1/2014  \n",
       "2         Small Box  4/1/2014  \n",
       "3        Jumbo Drum  2/1/2014  \n",
       "4        Jumbo Drum  4/1/2014  "
      ]
     },
     "execution_count": 2,
     "metadata": {},
     "output_type": "execute_result"
    }
   ],
   "source": [
    "df=pd.read_csv('sales_2014.csv')\n",
    "df.head()"
   ]
  },
  {
   "cell_type": "code",
   "execution_count": 3,
   "id": "47d38424-7bd9-4ed8-9579-6fb0bce7ff9d",
   "metadata": {},
   "outputs": [
    {
     "data": {
      "text/plain": [
       "Order ID             0\n",
       "Customer ID          0\n",
       "SalesPerson          0\n",
       "Order Date           0\n",
       "Order Priority       0\n",
       "SKU                  0\n",
       "Order Quantity       0\n",
       "Unit Sell Price      0\n",
       "Discount             0\n",
       "Shipping Amount      0\n",
       "Ship Mode            0\n",
       "Product Container    0\n",
       "Ship Date            0\n",
       "dtype: int64"
      ]
     },
     "execution_count": 3,
     "metadata": {},
     "output_type": "execute_result"
    }
   ],
   "source": [
    "df.isnull().sum()"
   ]
  },
  {
   "cell_type": "code",
   "execution_count": 4,
   "id": "b4f96f85-1b71-43f0-b6a0-5aa62682a1f8",
   "metadata": {},
   "outputs": [
    {
     "name": "stdout",
     "output_type": "stream",
     "text": [
      "<class 'pandas.core.frame.DataFrame'>\n",
      "RangeIndex: 2153 entries, 0 to 2152\n",
      "Data columns (total 13 columns):\n",
      " #   Column             Non-Null Count  Dtype  \n",
      "---  ------             --------------  -----  \n",
      " 0   Order ID           2153 non-null   int64  \n",
      " 1   Customer ID        2153 non-null   object \n",
      " 2   SalesPerson        2153 non-null   object \n",
      " 3   Order Date         2153 non-null   object \n",
      " 4   Order Priority     2153 non-null   object \n",
      " 5   SKU                2153 non-null   object \n",
      " 6   Order Quantity     2153 non-null   int64  \n",
      " 7   Unit Sell Price    2153 non-null   float64\n",
      " 8   Discount           2153 non-null   float64\n",
      " 9   Shipping Amount    2153 non-null   float64\n",
      " 10  Ship Mode          2153 non-null   object \n",
      " 11  Product Container  2153 non-null   object \n",
      " 12  Ship Date          2153 non-null   object \n",
      "dtypes: float64(3), int64(2), object(8)\n",
      "memory usage: 218.8+ KB\n"
     ]
    }
   ],
   "source": [
    "df.info()"
   ]
  },
  {
   "cell_type": "code",
   "execution_count": 5,
   "id": "6deb959a-2af5-469a-9093-e0839d3ff7b5",
   "metadata": {},
   "outputs": [],
   "source": [
    "df['Order Date']=pd.to_datetime(df['Order Date'],format='%d/%m/%Y')\n",
    "df['Ship Date']=pd.to_datetime(df['Ship Date'],format='%d/%m/%Y')"
   ]
  },
  {
   "cell_type": "code",
   "execution_count": 6,
   "id": "6da15798-af43-471a-bbb3-57e9a13eb117",
   "metadata": {},
   "outputs": [
    {
     "name": "stdout",
     "output_type": "stream",
     "text": [
      "<class 'pandas.core.frame.DataFrame'>\n",
      "RangeIndex: 2153 entries, 0 to 2152\n",
      "Data columns (total 13 columns):\n",
      " #   Column             Non-Null Count  Dtype         \n",
      "---  ------             --------------  -----         \n",
      " 0   Order ID           2153 non-null   int64         \n",
      " 1   Customer ID        2153 non-null   object        \n",
      " 2   SalesPerson        2153 non-null   object        \n",
      " 3   Order Date         2153 non-null   datetime64[ns]\n",
      " 4   Order Priority     2153 non-null   object        \n",
      " 5   SKU                2153 non-null   object        \n",
      " 6   Order Quantity     2153 non-null   int64         \n",
      " 7   Unit Sell Price    2153 non-null   float64       \n",
      " 8   Discount           2153 non-null   float64       \n",
      " 9   Shipping Amount    2153 non-null   float64       \n",
      " 10  Ship Mode          2153 non-null   object        \n",
      " 11  Product Container  2153 non-null   object        \n",
      " 12  Ship Date          2153 non-null   datetime64[ns]\n",
      "dtypes: datetime64[ns](2), float64(3), int64(2), object(6)\n",
      "memory usage: 218.8+ KB\n"
     ]
    }
   ],
   "source": [
    "df.info()"
   ]
  },
  {
   "cell_type": "code",
   "execution_count": 7,
   "id": "2eefba67-9faa-46a0-a0dd-42cdd7b3a1fd",
   "metadata": {},
   "outputs": [
    {
     "data": {
      "text/plain": [
       "0       130.91\n",
       "1        10.57\n",
       "2        43.91\n",
       "3       340.53\n",
       "4       145.91\n",
       "         ...  \n",
       "2148    624.40\n",
       "2149      6.85\n",
       "2150    204.97\n",
       "2151     17.87\n",
       "2152    193.19\n",
       "Name: Total_sales, Length: 2153, dtype: float64"
      ]
     },
     "execution_count": 7,
     "metadata": {},
     "output_type": "execute_result"
    }
   ],
   "source": [
    "df['Total_sales']=df['Unit Sell Price']+df['Shipping Amount']-df['Discount']\n",
    "df['Total_sales']"
   ]
  },
  {
   "cell_type": "code",
   "execution_count": 8,
   "id": "6d43ac66-b612-4fa7-a1df-0e7980a576c4",
   "metadata": {},
   "outputs": [
    {
     "name": "stdout",
     "output_type": "stream",
     "text": [
      "261098.61000000048\n"
     ]
    }
   ],
   "source": [
    "Sum_of_sales=0\n",
    "for i in df['Total_sales']:\n",
    "    Sum_of_sales += i\n",
    "print(Sum_of_sales)  "
   ]
  },
  {
   "cell_type": "code",
   "execution_count": 41,
   "id": "083b1f5f-c035-4af5-bf43-40ce6b8e807f",
   "metadata": {},
   "outputs": [
    {
     "data": {
      "text/html": [
       "<div>\n",
       "<style scoped>\n",
       "    .dataframe tbody tr th:only-of-type {\n",
       "        vertical-align: middle;\n",
       "    }\n",
       "\n",
       "    .dataframe tbody tr th {\n",
       "        vertical-align: top;\n",
       "    }\n",
       "\n",
       "    .dataframe thead th {\n",
       "        text-align: right;\n",
       "    }\n",
       "</style>\n",
       "<table border=\"1\" class=\"dataframe\">\n",
       "  <thead>\n",
       "    <tr style=\"text-align: right;\">\n",
       "      <th></th>\n",
       "      <th>Order ID</th>\n",
       "      <th>Customer ID</th>\n",
       "      <th>SalesPerson</th>\n",
       "      <th>Order Date</th>\n",
       "      <th>Order Priority</th>\n",
       "      <th>SKU</th>\n",
       "      <th>Order Quantity</th>\n",
       "      <th>Unit Sell Price</th>\n",
       "      <th>Discount</th>\n",
       "      <th>Shipping Amount</th>\n",
       "      <th>Ship Mode</th>\n",
       "      <th>Product Container</th>\n",
       "      <th>Ship Date</th>\n",
       "      <th>Total_sales</th>\n",
       "    </tr>\n",
       "  </thead>\n",
       "  <tbody>\n",
       "    <tr>\n",
       "      <th>0</th>\n",
       "      <td>13729</td>\n",
       "      <td>C508</td>\n",
       "      <td>Bob</td>\n",
       "      <td>2014-01-01</td>\n",
       "      <td>Not Specified</td>\n",
       "      <td>SKU947</td>\n",
       "      <td>9</td>\n",
       "      <td>95.99</td>\n",
       "      <td>0.08</td>\n",
       "      <td>35.00</td>\n",
       "      <td>Express Air</td>\n",
       "      <td>Large Box</td>\n",
       "      <td>2014-01-03</td>\n",
       "      <td>130.91</td>\n",
       "    </tr>\n",
       "    <tr>\n",
       "      <th>1</th>\n",
       "      <td>28774</td>\n",
       "      <td>C372</td>\n",
       "      <td>John</td>\n",
       "      <td>2014-01-01</td>\n",
       "      <td>High</td>\n",
       "      <td>SKU937</td>\n",
       "      <td>32</td>\n",
       "      <td>5.98</td>\n",
       "      <td>0.10</td>\n",
       "      <td>4.69</td>\n",
       "      <td>Regular Air</td>\n",
       "      <td>Small Box</td>\n",
       "      <td>2014-01-02</td>\n",
       "      <td>10.57</td>\n",
       "    </tr>\n",
       "    <tr>\n",
       "      <th>2</th>\n",
       "      <td>9285</td>\n",
       "      <td>C212</td>\n",
       "      <td>Bob</td>\n",
       "      <td>2014-01-02</td>\n",
       "      <td>Critical</td>\n",
       "      <td>SKU363</td>\n",
       "      <td>3</td>\n",
       "      <td>40.98</td>\n",
       "      <td>0.06</td>\n",
       "      <td>2.99</td>\n",
       "      <td>Regular Air</td>\n",
       "      <td>Small Box</td>\n",
       "      <td>2014-01-04</td>\n",
       "      <td>43.91</td>\n",
       "    </tr>\n",
       "    <tr>\n",
       "      <th>3</th>\n",
       "      <td>37537</td>\n",
       "      <td>C015</td>\n",
       "      <td>Bob</td>\n",
       "      <td>2014-01-02</td>\n",
       "      <td>Low</td>\n",
       "      <td>SKU052</td>\n",
       "      <td>4</td>\n",
       "      <td>291.73</td>\n",
       "      <td>0.00</td>\n",
       "      <td>48.80</td>\n",
       "      <td>Delivery Truck</td>\n",
       "      <td>Jumbo Drum</td>\n",
       "      <td>2014-01-02</td>\n",
       "      <td>340.53</td>\n",
       "    </tr>\n",
       "    <tr>\n",
       "      <th>4</th>\n",
       "      <td>37537</td>\n",
       "      <td>C015</td>\n",
       "      <td>Bob</td>\n",
       "      <td>2014-01-02</td>\n",
       "      <td>Low</td>\n",
       "      <td>SKU063</td>\n",
       "      <td>43</td>\n",
       "      <td>100.98</td>\n",
       "      <td>0.07</td>\n",
       "      <td>45.00</td>\n",
       "      <td>Delivery Truck</td>\n",
       "      <td>Jumbo Drum</td>\n",
       "      <td>2014-01-04</td>\n",
       "      <td>145.91</td>\n",
       "    </tr>\n",
       "  </tbody>\n",
       "</table>\n",
       "</div>"
      ],
      "text/plain": [
       "   Order ID Customer ID SalesPerson Order Date Order Priority     SKU  \\\n",
       "0     13729        C508         Bob 2014-01-01  Not Specified  SKU947   \n",
       "1     28774        C372        John 2014-01-01           High  SKU937   \n",
       "2      9285        C212         Bob 2014-01-02       Critical  SKU363   \n",
       "3     37537        C015         Bob 2014-01-02            Low  SKU052   \n",
       "4     37537        C015         Bob 2014-01-02            Low  SKU063   \n",
       "\n",
       "   Order Quantity  Unit Sell Price  Discount  Shipping Amount       Ship Mode  \\\n",
       "0               9            95.99      0.08            35.00     Express Air   \n",
       "1              32             5.98      0.10             4.69     Regular Air   \n",
       "2               3            40.98      0.06             2.99     Regular Air   \n",
       "3               4           291.73      0.00            48.80  Delivery Truck   \n",
       "4              43           100.98      0.07            45.00  Delivery Truck   \n",
       "\n",
       "  Product Container  Ship Date  Total_sales  \n",
       "0         Large Box 2014-01-03       130.91  \n",
       "1         Small Box 2014-01-02        10.57  \n",
       "2         Small Box 2014-01-04        43.91  \n",
       "3        Jumbo Drum 2014-01-02       340.53  \n",
       "4        Jumbo Drum 2014-01-04       145.91  "
      ]
     },
     "execution_count": 41,
     "metadata": {},
     "output_type": "execute_result"
    }
   ],
   "source": [
    "df.head()"
   ]
  },
  {
   "cell_type": "code",
   "execution_count": 19,
   "id": "51ebc706-d119-48f7-8097-904a46fddad8",
   "metadata": {},
   "outputs": [],
   "source": [
    "sales_by_person=df.groupby('SalesPerson')['Total_sales'].sum().reset_index()"
   ]
  },
  {
   "cell_type": "code",
   "execution_count": 21,
   "id": "b5508de9-b13c-448c-aa79-aaa396ce8f85",
   "metadata": {},
   "outputs": [
    {
     "data": {
      "text/html": [
       "<div>\n",
       "<style scoped>\n",
       "    .dataframe tbody tr th:only-of-type {\n",
       "        vertical-align: middle;\n",
       "    }\n",
       "\n",
       "    .dataframe tbody tr th {\n",
       "        vertical-align: top;\n",
       "    }\n",
       "\n",
       "    .dataframe thead th {\n",
       "        text-align: right;\n",
       "    }\n",
       "</style>\n",
       "<table border=\"1\" class=\"dataframe\">\n",
       "  <thead>\n",
       "    <tr style=\"text-align: right;\">\n",
       "      <th></th>\n",
       "      <th>SalesPerson</th>\n",
       "      <th>Total_sales</th>\n",
       "    </tr>\n",
       "  </thead>\n",
       "  <tbody>\n",
       "    <tr>\n",
       "      <th>0</th>\n",
       "      <td>Bob</td>\n",
       "      <td>98602.42</td>\n",
       "    </tr>\n",
       "    <tr>\n",
       "      <th>1</th>\n",
       "      <td>John</td>\n",
       "      <td>71897.41</td>\n",
       "    </tr>\n",
       "    <tr>\n",
       "      <th>2</th>\n",
       "      <td>Richard</td>\n",
       "      <td>90598.78</td>\n",
       "    </tr>\n",
       "  </tbody>\n",
       "</table>\n",
       "</div>"
      ],
      "text/plain": [
       "  SalesPerson  Total_sales\n",
       "0         Bob     98602.42\n",
       "1        John     71897.41\n",
       "2     Richard     90598.78"
      ]
     },
     "execution_count": 21,
     "metadata": {},
     "output_type": "execute_result"
    }
   ],
   "source": [
    "sales_by_person"
   ]
  },
  {
   "cell_type": "code",
   "execution_count": 23,
   "id": "043adcff-ac6e-4fc3-99ae-0d99814a5f99",
   "metadata": {},
   "outputs": [
    {
     "data": {
      "image/png": "[encoded data removed]",
      "text/plain": [
       "<Figure size 640x480 with 1 Axes>"
      ]
     },
     "metadata": {},
     "output_type": "display_data"
    }
   ],
   "source": [
    "w=plt.bar(df['SalesPerson'],df['Total_sales'],color='black')\n",
    "plt.bar_label(w)\n",
    "plt.show()"
   ]
  },
  {
   "cell_type": "code",
   "execution_count": 25,
   "id": "3b9509e8-f187-4017-a7a7-43e942619a90",
   "metadata": {},
   "outputs": [
    {
     "data": {
      "image/png": "[encoded data removed]",
      "text/plain": [
       "<Figure size 640x480 with 1 Axes>"
      ]
     },
     "metadata": {},
     "output_type": "display_data"
    }
   ],
   "source": [
    "plt.pie(sales_by_person['Total_sales'],labels=sales_by_person['SalesPerson'],autopct='%1.2f%%')\n",
    "plt.show()"
   ]
  },
  {
   "cell_type": "code",
   "execution_count": 27,
   "id": "94f445c7-396c-4104-b66d-17c3e1679741",
   "metadata": {},
   "outputs": [
    {
     "name": "stdout",
     "output_type": "stream",
     "text": [
      "<class 'pandas.core.frame.DataFrame'>\n",
      "RangeIndex: 2153 entries, 0 to 2152\n",
      "Data columns (total 14 columns):\n",
      " #   Column             Non-Null Count  Dtype         \n",
      "---  ------             --------------  -----         \n",
      " 0   Order ID           2153 non-null   int64         \n",
      " 1   Customer ID        2153 non-null   object        \n",
      " 2   SalesPerson        2153 non-null   object        \n",
      " 3   Order Date         2153 non-null   datetime64[ns]\n",
      " 4   Order Priority     2153 non-null   object        \n",
      " 5   SKU                2153 non-null   object        \n",
      " 6   Order Quantity     2153 non-null   int64         \n",
      " 7   Unit Sell Price    2153 non-null   float64       \n",
      " 8   Discount           2153 non-null   float64       \n",
      " 9   Shipping Amount    2153 non-null   float64       \n",
      " 10  Ship Mode          2153 non-null   object        \n",
      " 11  Product Container  2153 non-null   object        \n",
      " 12  Ship Date          2153 non-null   datetime64[ns]\n",
      " 13  Total_sales        2153 non-null   float64       \n",
      "dtypes: datetime64[ns](2), float64(4), int64(2), object(6)\n",
      "memory usage: 235.6+ KB\n"
     ]
    }
   ],
   "source": [
    "df.info()"
   ]
  },
  {
   "cell_type": "code",
   "execution_count": 31,
   "id": "cb91ff32-29ad-4e92-b887-05b4d14c9fd2",
   "metadata": {},
   "outputs": [
    {
     "data": {
      "text/html": [
       "<div>\n",
       "<style scoped>\n",
       "    .dataframe tbody tr th:only-of-type {\n",
       "        vertical-align: middle;\n",
       "    }\n",
       "\n",
       "    .dataframe tbody tr th {\n",
       "        vertical-align: top;\n",
       "    }\n",
       "\n",
       "    .dataframe thead th {\n",
       "        text-align: right;\n",
       "    }\n",
       "</style>\n",
       "<table border=\"1\" class=\"dataframe\">\n",
       "  <thead>\n",
       "    <tr style=\"text-align: right;\">\n",
       "      <th></th>\n",
       "      <th>SalesPerson</th>\n",
       "      <th>Order Quantity</th>\n",
       "    </tr>\n",
       "  </thead>\n",
       "  <tbody>\n",
       "    <tr>\n",
       "      <th>0</th>\n",
       "      <td>Bob</td>\n",
       "      <td>18251</td>\n",
       "    </tr>\n",
       "    <tr>\n",
       "      <th>1</th>\n",
       "      <td>John</td>\n",
       "      <td>17608</td>\n",
       "    </tr>\n",
       "    <tr>\n",
       "      <th>2</th>\n",
       "      <td>Richard</td>\n",
       "      <td>18521</td>\n",
       "    </tr>\n",
       "  </tbody>\n",
       "</table>\n",
       "</div>"
      ],
      "text/plain": [
       "  SalesPerson  Order Quantity\n",
       "0         Bob           18251\n",
       "1        John           17608\n",
       "2     Richard           18521"
      ]
     },
     "execution_count": 31,
     "metadata": {},
     "output_type": "execute_result"
    }
   ],
   "source": [
    "fd=df.groupby('SalesPerson')['Order Quantity'].sum().reset_index()\n",
    "fd"
   ]
  },
  {
   "cell_type": "code",
   "execution_count": 35,
   "id": "429bb196-446c-4bf6-a2e3-502402863a17",
   "metadata": {},
   "outputs": [
    {
     "data": {
      "image/png": "[encoded data removed]",
      "text/plain": [
       "<Figure size 640x480 with 1 Axes>"
      ]
     },
     "metadata": {},
     "output_type": "display_data"
    }
   ],
   "source": [
    "colors=('r','b','y')\n",
    "plt.bar(fd['SalesPerson'],fd['Order Quantity'],color=colors)\n",
    "plt.show()"
   ]
  },
  {
   "cell_type": "code",
   "execution_count": 43,
   "id": "38e73901-e8eb-4015-a1a4-9de88f06b4bf",
   "metadata": {},
   "outputs": [
    {
     "data": {
      "text/plain": [
       "0        1\n",
       "1        1\n",
       "2        1\n",
       "3        1\n",
       "4        1\n",
       "        ..\n",
       "2148    12\n",
       "2149    12\n",
       "2150    12\n",
       "2151    12\n",
       "2152    12\n",
       "Name: order month, Length: 2153, dtype: int32"
      ]
     },
     "execution_count": 43,
     "metadata": {},
     "output_type": "execute_result"
    }
   ],
   "source": [
    "df['order month']=df['Order Date'].dt.month\n",
    "df['order month']"
   ]
  },
  {
   "cell_type": "code",
   "execution_count": 47,
   "id": "cf278d9b-a6d4-4ec7-9da9-2c4742b44130",
   "metadata": {},
   "outputs": [],
   "source": [
    "import calendar"
   ]
  },
  {
   "cell_type": "code",
   "execution_count": 49,
   "id": "bc919061-d317-455a-a0dd-d7345ed23f3c",
   "metadata": {},
   "outputs": [
    {
     "data": {
      "text/plain": [
       "0        January\n",
       "1        January\n",
       "2        January\n",
       "3        January\n",
       "4        January\n",
       "          ...   \n",
       "2148    December\n",
       "2149    December\n",
       "2150    December\n",
       "2151    December\n",
       "2152    December\n",
       "Name: order month name, Length: 2153, dtype: object"
      ]
     },
     "execution_count": 49,
     "metadata": {},
     "output_type": "execute_result"
    }
   ],
   "source": [
    "df['order month name']=df['order month'].apply(lambda x:calendar.month_name[x])\n",
    "df['order month name']"
   ]
  },
  {
   "cell_type": "code",
   "execution_count": 51,
   "id": "59a01d15-4222-49a2-b2bc-1d257220aed2",
   "metadata": {},
   "outputs": [
    {
     "data": {
      "text/html": [
       "<div>\n",
       "<style scoped>\n",
       "    .dataframe tbody tr th:only-of-type {\n",
       "        vertical-align: middle;\n",
       "    }\n",
       "\n",
       "    .dataframe tbody tr th {\n",
       "        vertical-align: top;\n",
       "    }\n",
       "\n",
       "    .dataframe thead th {\n",
       "        text-align: right;\n",
       "    }\n",
       "</style>\n",
       "<table border=\"1\" class=\"dataframe\">\n",
       "  <thead>\n",
       "    <tr style=\"text-align: right;\">\n",
       "      <th></th>\n",
       "      <th>Order ID</th>\n",
       "      <th>Customer ID</th>\n",
       "      <th>SalesPerson</th>\n",
       "      <th>Order Date</th>\n",
       "      <th>Order Priority</th>\n",
       "      <th>SKU</th>\n",
       "      <th>Order Quantity</th>\n",
       "      <th>Unit Sell Price</th>\n",
       "      <th>Discount</th>\n",
       "      <th>Shipping Amount</th>\n",
       "      <th>Ship Mode</th>\n",
       "      <th>Product Container</th>\n",
       "      <th>Ship Date</th>\n",
       "      <th>Total_sales</th>\n",
       "      <th>order month</th>\n",
       "      <th>order month name</th>\n",
       "    </tr>\n",
       "  </thead>\n",
       "  <tbody>\n",
       "    <tr>\n",
       "      <th>0</th>\n",
       "      <td>13729</td>\n",
       "      <td>C508</td>\n",
       "      <td>Bob</td>\n",
       "      <td>2014-01-01</td>\n",
       "      <td>Not Specified</td>\n",
       "      <td>SKU947</td>\n",
       "      <td>9</td>\n",
       "      <td>95.99</td>\n",
       "      <td>0.08</td>\n",
       "      <td>35.00</td>\n",
       "      <td>Express Air</td>\n",
       "      <td>Large Box</td>\n",
       "      <td>2014-01-03</td>\n",
       "      <td>130.91</td>\n",
       "      <td>1</td>\n",
       "      <td>January</td>\n",
       "    </tr>\n",
       "    <tr>\n",
       "      <th>1</th>\n",
       "      <td>28774</td>\n",
       "      <td>C372</td>\n",
       "      <td>John</td>\n",
       "      <td>2014-01-01</td>\n",
       "      <td>High</td>\n",
       "      <td>SKU937</td>\n",
       "      <td>32</td>\n",
       "      <td>5.98</td>\n",
       "      <td>0.10</td>\n",
       "      <td>4.69</td>\n",
       "      <td>Regular Air</td>\n",
       "      <td>Small Box</td>\n",
       "      <td>2014-01-02</td>\n",
       "      <td>10.57</td>\n",
       "      <td>1</td>\n",
       "      <td>January</td>\n",
       "    </tr>\n",
       "    <tr>\n",
       "      <th>2</th>\n",
       "      <td>9285</td>\n",
       "      <td>C212</td>\n",
       "      <td>Bob</td>\n",
       "      <td>2014-01-02</td>\n",
       "      <td>Critical</td>\n",
       "      <td>SKU363</td>\n",
       "      <td>3</td>\n",
       "      <td>40.98</td>\n",
       "      <td>0.06</td>\n",
       "      <td>2.99</td>\n",
       "      <td>Regular Air</td>\n",
       "      <td>Small Box</td>\n",
       "      <td>2014-01-04</td>\n",
       "      <td>43.91</td>\n",
       "      <td>1</td>\n",
       "      <td>January</td>\n",
       "    </tr>\n",
       "    <tr>\n",
       "      <th>3</th>\n",
       "      <td>37537</td>\n",
       "      <td>C015</td>\n",
       "      <td>Bob</td>\n",
       "      <td>2014-01-02</td>\n",
       "      <td>Low</td>\n",
       "      <td>SKU052</td>\n",
       "      <td>4</td>\n",
       "      <td>291.73</td>\n",
       "      <td>0.00</td>\n",
       "      <td>48.80</td>\n",
       "      <td>Delivery Truck</td>\n",
       "      <td>Jumbo Drum</td>\n",
       "      <td>2014-01-02</td>\n",
       "      <td>340.53</td>\n",
       "      <td>1</td>\n",
       "      <td>January</td>\n",
       "    </tr>\n",
       "    <tr>\n",
       "      <th>4</th>\n",
       "      <td>37537</td>\n",
       "      <td>C015</td>\n",
       "      <td>Bob</td>\n",
       "      <td>2014-01-02</td>\n",
       "      <td>Low</td>\n",
       "      <td>SKU063</td>\n",
       "      <td>43</td>\n",
       "      <td>100.98</td>\n",
       "      <td>0.07</td>\n",
       "      <td>45.00</td>\n",
       "      <td>Delivery Truck</td>\n",
       "      <td>Jumbo Drum</td>\n",
       "      <td>2014-01-04</td>\n",
       "      <td>145.91</td>\n",
       "      <td>1</td>\n",
       "      <td>January</td>\n",
       "    </tr>\n",
       "  </tbody>\n",
       "</table>\n",
       "</div>"
      ],
      "text/plain": [
       "   Order ID Customer ID SalesPerson Order Date Order Priority     SKU  \\\n",
       "0     13729        C508         Bob 2014-01-01  Not Specified  SKU947   \n",
       "1     28774        C372        John 2014-01-01           High  SKU937   \n",
       "2      9285        C212         Bob 2014-01-02       Critical  SKU363   \n",
       "3     37537        C015         Bob 2014-01-02            Low  SKU052   \n",
       "4     37537        C015         Bob 2014-01-02            Low  SKU063   \n",
       "\n",
       "   Order Quantity  Unit Sell Price  Discount  Shipping Amount       Ship Mode  \\\n",
       "0               9            95.99      0.08            35.00     Express Air   \n",
       "1              32             5.98      0.10             4.69     Regular Air   \n",
       "2               3            40.98      0.06             2.99     Regular Air   \n",
       "3               4           291.73      0.00            48.80  Delivery Truck   \n",
       "4              43           100.98      0.07            45.00  Delivery Truck   \n",
       "\n",
       "  Product Container  Ship Date  Total_sales  order month order month name  \n",
       "0         Large Box 2014-01-03       130.91            1          January  \n",
       "1         Small Box 2014-01-02        10.57            1          January  \n",
       "2         Small Box 2014-01-04        43.91            1          January  \n",
       "3        Jumbo Drum 2014-01-02       340.53            1          January  \n",
       "4        Jumbo Drum 2014-01-04       145.91            1          January  "
      ]
     },
     "execution_count": 51,
     "metadata": {},
     "output_type": "execute_result"
    }
   ],
   "source": [
    "df.head()"
   ]
  },
  {
   "cell_type": "code",
   "execution_count": 59,
   "id": "b04e3177-3cb5-4db7-af45-e2d2e6e185c2",
   "metadata": {},
   "outputs": [
    {
     "data": {
      "image/png": "[encoded data removed]",
      "text/plain": [
       "<Figure size 1200x500 with 1 Axes>"
      ]
     },
     "metadata": {},
     "output_type": "display_data"
    }
   ],
   "source": [
    "plt.figure(figsize=(12,5))\n",
    "plt.plot(df['order month name'],df['Total_sales'])\n",
    "plt.show()"
   ]
  },
  {
   "cell_type": "code",
   "execution_count": null,
   "id": "aab73fd0-ef3b-423f-af21-7586af33271c",
   "metadata": {},
   "outputs": [],
   "source": []
  }
 ],
 "metadata": {
  "kernelspec": {
   "display_name": "Python [conda env:base] *",
   "language": "python",
   "name": "conda-base-py"
  },
  "language_info": {
   "codemirror_mode": {
    "name": "ipython",
    "version": 3
   },
   "file_extension": ".py",
   "mimetype": "text/x-python",
   "name": "python",
   "nbconvert_exporter": "python",
   "pygments_lexer": "ipython3",
   "version": "3.12.7"
  }
 },
 "nbformat": 4,
 "nbformat_minor": 5
}
